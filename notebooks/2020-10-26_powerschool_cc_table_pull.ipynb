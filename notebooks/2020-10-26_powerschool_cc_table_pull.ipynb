{
 "cells": [
  {
   "cell_type": "code",
   "execution_count": 1,
   "metadata": {},
   "outputs": [],
   "source": [
    "import base64\n",
    "\n",
    "import os\n",
    "import requests\n",
    "import re\n",
    "import math\n",
    "import zipfile\n",
    "import sys\n",
    "import logging\n",
    "\n",
    "import json\n",
    "\n",
    "from datetime import datetime, timedelta\n",
    "from os.path import expanduser\n",
    "from __future__ import division"
   ]
  },
  {
   "cell_type": "markdown",
   "metadata": {},
   "source": [
    "Data Provider Configuration for Data Robot REST API Plugin\n",
    "http://help.otus.com/en/articles/2829276-finding-the-powerschool-client-credentials"
   ]
  },
  {
   "cell_type": "code",
   "execution_count": 2,
   "metadata": {},
   "outputs": [],
   "source": [
    "endpoint = {\"table_name\":\"cc\", \"query_expression\":\"termid=ge=3000;termid=lt=3100\",\n",
    "     \"projection\":\"dateleft,schoolid,termid,period_obsolete,attendance_type_code,unused2,currentabsences,currenttardies,attendance,teacherid,lastgradeupdate,section_number,course_number,origsectionid,unused3,teachercomment,lastattmod,asmtscores,firstattdate,finalgrades,studyear,log,expression,studentsectenrl_guid,teacherprivatenote,ab_course_cmp_fun_flg,ab_course_cmp_ext_crd,ab_course_cmp_met_cd,ab_course_eva_pro_cd,ab_course_cmp_sta_cd,dcid,id,studentid,sectionid,dateenrolled\"}\n",
    "    \n",
    "base_url = 'https://kippchicago.powerschool.com'\n",
    "table_name = endpoint['table_name']\n",
    "query = 'q={}&'.format(endpoint['query_expression'])\n",
    "maxpagesize = 1000\n",
    "table_columns = endpoint['projection']\n",
    "ps_client_id = \"7d2606ef-c59c-493b-811e-12252b1e2794\"\n",
    "ps_client_secret = \"7f7ff316-0535-4f36-a63f-f4c40d54a462\"\n",
    "\n",
    "credentials_concat = '{0}:{1}'.format(ps_client_id, ps_client_secret)\n",
    "credentials_encoded = base64.b64encode(credentials_concat.encode('utf-8'))\n",
    "\n",
    "access_token_timestamp = datetime.now()\n",
    "access_headers = {\n",
    "        'Authorization': b'Basic ' + credentials_encoded,\n",
    "        'Content-Type': 'application/x-www-form-urlencoded;charset=UTF-8'\n",
    "    }\n",
    "access_payload = {'grant_type':'client_credentials'}"
   ]
  },
  {
   "cell_type": "code",
   "execution_count": 3,
   "metadata": {},
   "outputs": [],
   "source": [
    "def get_access_token(base_url, credentials_encoded):\n",
    "    \"\"\"\n",
    "    retrieve a new access_token from PowerSchool\n",
    "        - base_url                  full URL of PS instance (default from CONFIG)\n",
    "        - credentials_encoded       API credentials (default from CONFIG)\n",
    "    \"\"\"\n",
    "    logging.info('Retrieving new access token')\n",
    "    access_token_timestamp = datetime.now()\n",
    "    access_headers = {\n",
    "            'Authorization': b'Basic ' + credentials_encoded,\n",
    "            'Content-Type': 'application/x-www-form-urlencoded;charset=UTF-8'\n",
    "        }\n",
    "    access_payload = {'grant_type':'client_credentials'}\n",
    "    r_access = requests.post('{0}/oauth/access_token/'.format(base_url), headers=access_headers, params=access_payload)\n",
    "\n",
    "    access_json = r_access.json()\n",
    "    access_json['timestamp'] = str(access_token_timestamp)\n",
    "    return access_json"
   ]
  },
  {
   "cell_type": "code",
   "execution_count": 4,
   "metadata": {},
   "outputs": [],
   "source": [
    "access_token = get_access_token(base_url, credentials_encoded)\n",
    "auth_headers = {'Authorization': 'Bearer {0}'.format(access_token['access_token']),}"
   ]
  },
  {
   "cell_type": "code",
   "execution_count": 5,
   "metadata": {},
   "outputs": [],
   "source": [
    "r_count = requests.get('{0}/ws/schema/table/{1}/count?{2}'.format(base_url, \n",
    "                                                                  table_name, \n",
    "                                                                  query), headers=auth_headers)"
   ]
  },
  {
   "cell_type": "code",
   "execution_count": 11,
   "metadata": {},
   "outputs": [
    {
     "data": {
      "text/plain": [
       "200"
      ]
     },
     "execution_count": 11,
     "metadata": {},
     "output_type": "execute_result"
    }
   ],
   "source": [
    "r_status"
   ]
  },
  {
   "cell_type": "code",
   "execution_count": 7,
   "metadata": {},
   "outputs": [],
   "source": [
    "r_count = requests.get('{0}/ws/schema/table/{1}/count?{2}'.format(base_url, \n",
    "                                                                  table_name, \n",
    "                                                                  query), \n",
    "                       headers=auth_headers)\n",
    "\n",
    "r_status = r_count.status_code\n",
    "if r_status != 200:\n",
    "     logging.info('Response NOT successful. I got code {} '.format(r_status))\n",
    "     raise ValueError('Response NOT successful. I got code {} '.format(r_status))\n",
    "else:\n",
    "     logging.info('Response  successful! I got code {} '.format(r_status))\n",
    "\n",
    "count_json = r_count.json()\n",
    "row_count = count_json['count']\n",
    "\n",
    "pages = int(math.ceil(row_count / maxpagesize))"
   ]
  },
  {
   "cell_type": "code",
   "execution_count": 8,
   "metadata": {},
   "outputs": [],
   "source": [
    "data = []\n",
    "for p in range(pages):\n",
    "    page_number = p + 1\n",
    "\n",
    "    endpoint = '{0}/ws/schema/table/{1}?{2}page={3}&pagesize={4}&projection={5}'.format(base_url, table_name, query, page_number, maxpagesize, table_columns)\n",
    "    r_data = requests.get(endpoint, headers=auth_headers)\n",
    "\n",
    "    if r_data.ok:\n",
    "        data_json = r_data.json()\n",
    "        records = data_json['record']\n",
    "        for r in records:\n",
    "            data.append(r['tables'][table_name])"
   ]
  },
  {
   "cell_type": "code",
   "execution_count": 9,
   "metadata": {},
   "outputs": [],
   "source": [
    "save_dir = \"~/code\"\n",
    "filename = \"current_cc_data.json\"\n",
    "def save_file(save_dir, filename, data):\n",
    "    \"\"\"\n",
    "    check if save folder exists (create if not) and save data to specified filepath\n",
    "        - filepath\n",
    "        - data\n",
    "    \"\"\"\n",
    "    if not os.path.isdir(save_dir):\n",
    "        os.mkdir(save_dir)\n",
    "\n",
    "    filepath = '{0}/{1}'.format(save_dir, filename)\n",
    "    with open(filepath, 'w+') as outfile:\n",
    "        json.dump(data, outfile)\n",
    "\n",
    "    zipfilepath = filepath.replace('.json','.zip')\n",
    "    with zipfile.ZipFile(zipfilepath, 'w', zipfile.ZIP_DEFLATED) as zf:\n",
    "        zf.write(filepath)"
   ]
  },
  {
   "cell_type": "code",
   "execution_count": 10,
   "metadata": {},
   "outputs": [],
   "source": [
    "save_file(\".\", filename, data)"
   ]
  }
 ],
 "metadata": {
  "kernelspec": {
   "display_name": "Python 3",
   "language": "python",
   "name": "python3"
  },
  "language_info": {
   "codemirror_mode": {
    "name": "ipython",
    "version": 3
   },
   "file_extension": ".py",
   "mimetype": "text/x-python",
   "name": "python",
   "nbconvert_exporter": "python",
   "pygments_lexer": "ipython3",
   "version": "3.9.0"
  }
 },
 "nbformat": 4,
 "nbformat_minor": 4
}
